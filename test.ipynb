{
 "cells": [
  {
   "cell_type": "code",
   "execution_count": null,
   "id": "ce2d9e25",
   "metadata": {},
   "outputs": [],
   "source": [
    "import json, os, datetime\n",
    "from typing import Tuple, Any\n",
    "import pandas as pd, numpy as np\n",
    "from scipy import stats\n",
    "from src.commons.tools import input_path, output_path, check_directories, input_numeric_col\n",
    "\n",
    "pd.set_option(\"display.max_columns\", None)\n",
    "\n",
    "\n",
    "training_set = os.path.join(output_path, 'databases', 'dane_enriched_db.csv')\n",
    "def read_data(enriched_data: str=training_set) -> Tuple[pd.DataFrame]:\n",
    "    dane_enriched = pd.read_csv(\n",
    "        enriched_data,\n",
    "        parse_dates=['fecha_ingreso', 'fecha_final', 'fecha_retiro', 'fecha_nacimiento']\n",
    "    )\n",
    "    dane_dict = pd.read_excel(\n",
    "        os.path.join(input_path, 'DICCIONARIO_DATOS_DANE.xlsx'),\n",
    "        sheet_name='MGN_ANM_MANZANA',\n",
    "        skiprows=6\n",
    "    )\n",
    "    business_dict = pd.read_excel(\n",
    "        os.path.join(input_path, 'DICCIONARIO 1.xlsx'),\n",
    "        sheet_name='DICCIONARIO FINAL',\n",
    "        skiprows=3\n",
    "    ).drop('Unnamed: 0', axis=1)\n",
    "    return dane_enriched, dane_dict, business_dict"
   ]
  },
  {
   "cell_type": "code",
   "execution_count": null,
   "id": "eba47631",
   "metadata": {},
   "outputs": [],
   "source": []
  },
  {
   "cell_type": "code",
   "execution_count": 83,
   "id": "43a5a712",
   "metadata": {},
   "outputs": [],
   "source": [
    "file_path = os.path.join(output_path, 'predictive_mining', 'train_set', 'train_without_featuring.csv')\n",
    "featured_train_dataset = process_prediction_dataset(file_path)\n",
    "file_path = os.path.join(output_path, 'predictive_mining', 'deploy_set', 'deploy_without_featuring.csv')\n",
    "featured_deploy_dataset = process_prediction_dataset(file_path)"
   ]
  },
  {
   "cell_type": "code",
   "execution_count": null,
   "id": "cb4204c5",
   "metadata": {},
   "outputs": [],
   "source": []
  },
  {
   "cell_type": "code",
   "execution_count": null,
   "id": "aff8df95",
   "metadata": {},
   "outputs": [],
   "source": []
  },
  {
   "cell_type": "code",
   "execution_count": null,
   "id": "1dcf7a35",
   "metadata": {},
   "outputs": [],
   "source": []
  },
  {
   "cell_type": "code",
   "execution_count": null,
   "id": "5b4951d3",
   "metadata": {},
   "outputs": [],
   "source": []
  },
  {
   "cell_type": "code",
   "execution_count": null,
   "id": "b53d234f",
   "metadata": {},
   "outputs": [],
   "source": []
  },
  {
   "cell_type": "code",
   "execution_count": null,
   "id": "ff7c215b",
   "metadata": {},
   "outputs": [],
   "source": []
  },
  {
   "cell_type": "code",
   "execution_count": null,
   "id": "90342442",
   "metadata": {},
   "outputs": [],
   "source": []
  },
  {
   "cell_type": "code",
   "execution_count": null,
   "id": "12a954b2",
   "metadata": {},
   "outputs": [],
   "source": []
  },
  {
   "cell_type": "code",
   "execution_count": null,
   "id": "15ceba27",
   "metadata": {},
   "outputs": [],
   "source": []
  },
  {
   "cell_type": "code",
   "execution_count": null,
   "id": "03ea8810",
   "metadata": {},
   "outputs": [],
   "source": []
  },
  {
   "cell_type": "code",
   "execution_count": null,
   "id": "d90267b4",
   "metadata": {},
   "outputs": [],
   "source": []
  },
  {
   "cell_type": "code",
   "execution_count": null,
   "id": "95443207",
   "metadata": {},
   "outputs": [],
   "source": []
  },
  {
   "cell_type": "code",
   "execution_count": null,
   "id": "003b7f6b",
   "metadata": {},
   "outputs": [],
   "source": []
  }
 ],
 "metadata": {
  "kernelspec": {
   "display_name": "data-mining",
   "language": "python",
   "name": "python3"
  },
  "language_info": {
   "codemirror_mode": {
    "name": "ipython",
    "version": 3
   },
   "file_extension": ".py",
   "mimetype": "text/x-python",
   "name": "python",
   "nbconvert_exporter": "python",
   "pygments_lexer": "ipython3",
   "version": "3.12.3"
  }
 },
 "nbformat": 4,
 "nbformat_minor": 5
}
